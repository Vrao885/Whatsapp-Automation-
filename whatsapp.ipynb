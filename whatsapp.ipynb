{
 "cells": [
  {
   "cell_type": "code",
   "execution_count": 7,
   "metadata": {},
   "outputs": [],
   "source": [
    "# import web driver and pandas\n",
    "from selenium import webdriver\n",
    "\n",
    "from selenium.webdriver.support.ui import WebDriverWait\n",
    "from selenium.webdriver.support import expected_conditions as EC\n",
    "from selenium.webdriver.common.keys import Keys\n",
    "from selenium.webdriver.common.by import By\n"
   ]
  },
  {
   "cell_type": "code",
   "execution_count": 2,
   "metadata": {},
   "outputs": [],
   "source": [
    "# specifies the path to the chromedriver.exe\n",
    "driver = webdriver.Chrome(\"/opt/anaconda2/chromedriver\")\n"
   ]
  },
  {
   "cell_type": "code",
   "execution_count": 3,
   "metadata": {},
   "outputs": [],
   "source": [
    "# driver.get method() will navigate to a page given by the URL address\n",
    "driver.get(\"https://web.whatsapp.com/\")\n"
   ]
  },
  {
   "cell_type": "code",
   "execution_count": 1,
   "metadata": {},
   "outputs": [
    {
     "ename": "NameError",
     "evalue": "name 'WebDriverWait' is not defined",
     "output_type": "error",
     "traceback": [
      "\u001b[1;31m---------------------------------------------------------------------------\u001b[0m",
      "\u001b[1;31mNameError\u001b[0m                                 Traceback (most recent call last)",
      "\u001b[1;32m~\\AppData\\Local\\Temp/ipykernel_14488/2958873458.py\u001b[0m in \u001b[0;36m<module>\u001b[1;34m\u001b[0m\n\u001b[0;32m      2\u001b[0m \u001b[0mmyList\u001b[0m \u001b[1;33m=\u001b[0m \u001b[1;33m[\u001b[0m\u001b[1;34m'\"Chintu Bhaiya\"'\u001b[0m\u001b[1;33m,\u001b[0m\u001b[1;34m'\"Mom\"'\u001b[0m\u001b[1;33m,\u001b[0m \u001b[1;34m'\"Doctor Sahiba\"'\u001b[0m\u001b[1;33m]\u001b[0m\u001b[1;33m\u001b[0m\u001b[1;33m\u001b[0m\u001b[0m\n\u001b[0;32m      3\u001b[0m \u001b[1;33m\u001b[0m\u001b[0m\n\u001b[1;32m----> 4\u001b[1;33m \u001b[0mwait\u001b[0m \u001b[1;33m=\u001b[0m \u001b[0mWebDriverWait\u001b[0m\u001b[1;33m(\u001b[0m\u001b[0mdriver\u001b[0m\u001b[1;33m,\u001b[0m \u001b[1;36m1000\u001b[0m\u001b[1;33m)\u001b[0m\u001b[1;33m\u001b[0m\u001b[1;33m\u001b[0m\u001b[0m\n\u001b[0m\u001b[0;32m      5\u001b[0m \u001b[1;33m\u001b[0m\u001b[0m\n\u001b[0;32m      6\u001b[0m \u001b[1;32mfor\u001b[0m \u001b[0mtarget\u001b[0m \u001b[1;32min\u001b[0m \u001b[0mmyList\u001b[0m\u001b[1;33m:\u001b[0m\u001b[1;33m\u001b[0m\u001b[1;33m\u001b[0m\u001b[0m\n",
      "\u001b[1;31mNameError\u001b[0m: name 'WebDriverWait' is not defined"
     ]
    }
   ],
   "source": [
    "# Replace 'name' with the name of your friend or group name\n",
    "myList = ['\"Chintu Bhaiya\"','\"Mom\"', '\"Doctor Sahiba\"']\n",
    "\n",
    "wait = WebDriverWait(driver, 1000)\n",
    "  \n",
    "for target in myList:\n",
    "    name = target.replace('\"','')\n",
    "\n",
    "    # Replace the below string with your own message\n",
    "    string = \"Hi \" + name + Keys.SHIFT +'\\n\\n'+ Keys.SHIFT + \"Welcome to my channel RoboPathshala https://www.youtube.com/channel/UCNOHaiZpf-HhyazeYqTeXvA?view_as=subscriber\"+ Keys.SHIFT +'\\n\\n'+ Keys.SHIFT + \"Regards\" + Keys.SHIFT +'\\n'+ Keys.SHIFT +\"*ALOK MISHRA*\"\n",
    "\n",
    "    x_arg = '//span[contains(@title,' + target + ')]'\n",
    "\n",
    "    group_title = wait.until(EC.presence_of_element_located((By.XPATH, x_arg)))\n",
    "\n",
    "    print (\"Wait for few seconds\")\n",
    "    group_title.click()\n",
    "\n",
    "    #locate message form by_xpath\n",
    "    message = driver.find_elements_by_xpath('//*[@id=\"main\"]/footer/div[1]/div[2]/div/div[2]')[0]\n",
    "\n",
    "\n",
    "    # send_keys() to simulate key strokes\n",
    "    message.send_keys(string)\n",
    "\n",
    "    sendbutton = driver.find_elements_by_xpath('//*[@id=\"main\"]/footer/div[1]/div[3]/button')[0]\n",
    "\n",
    "    sendbutton.click()\n",
    "    \n",
    "driver.close()\n",
    "        \n",
    "    "
   ]
  },
  {
   "cell_type": "code",
   "execution_count": null,
   "metadata": {},
   "outputs": [],
   "source": []
  }
 ],
 "metadata": {
  "kernelspec": {
   "display_name": "Python 3 (ipykernel)",
   "language": "python",
   "name": "python3"
  },
  "language_info": {
   "codemirror_mode": {
    "name": "ipython",
    "version": 3
   },
   "file_extension": ".py",
   "mimetype": "text/x-python",
   "name": "python",
   "nbconvert_exporter": "python",
   "pygments_lexer": "ipython3",
   "version": "3.9.7"
  }
 },
 "nbformat": 4,
 "nbformat_minor": 2
}
